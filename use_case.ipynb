{
 "cells": [
  {
   "cell_type": "code",
   "execution_count": 1,
   "id": "81e8e84c-838a-4802-8f3b-b6488df07ea0",
   "metadata": {},
   "outputs": [
    {
     "name": "stdout",
     "output_type": "stream",
     "text": [
      "Using box scale: (512, 512)\n"
     ]
    }
   ],
   "source": [
    "# import from scripts\n",
    "from helpers import *\n",
    "from sampler import *"
   ]
  },
  {
   "cell_type": "code",
   "execution_count": 2,
   "id": "58cf5d78-8b38-4996-b32a-56b9684aef10",
   "metadata": {},
   "outputs": [
    {
     "name": "stdout",
     "output_type": "stream",
     "text": [
      "Loading LLM responses from cache/cache_demo_v0.1_gpt-4.json\n",
      "Cache path: cache/cache_demo_v0.1_gpt-4.json\n",
      "  Prompt: In an indoor scene, a blue cube directly above a red cube with a vase on the left of them\n",
      "  [('a blue cube', [202, 120, 110, 110]), ('a red cube', [202, 230, 110, 110]), ('a vase', [62, 190, 80, 150])]\n",
      "\tBackground prompt: An indoor scene\n",
      "\tNegative prompt: \n"
     ]
    }
   ],
   "source": [
    "# for demo, use pre-fabbed layouts\n",
    "from prompt import get_prompts\n",
    "from utils import cache\n",
    "\n",
    "cache.cache_path = 'cache/cache_demo_v0.1_gpt-4.json'\n",
    "print(f\"Loading LLM responses from {cache.cache_path}\")\n",
    "\n",
    "cache.init_cache(allow_nonexist=False)\n",
    "prompts = get_prompts('demo', model='gpt-4')\n",
    "\n",
    "prompt = prompts[0].strip().rstrip(\".\")\n",
    "\n",
    "# Load response from cache\n",
    "cache.reset_cache_access()\n",
    "layout = cache.get_cache(prompt)\n",
    "\n",
    "report = '\\n\\t'.join(layout.split('\\n'))\n",
    "print(f\"  Prompt: {prompt}\\n  {report}\")"
   ]
  },
  {
   "cell_type": "markdown",
   "id": "dac52b52-2307-42fb-80f2-c2bc7ef3008e",
   "metadata": {},
   "source": [
    "### Generate Functions\n",
    "\n",
    "There are 2 of these (*generate* and *generate_plus*):\n",
    "- *generate* assumes almost all defaults from the original repo\n",
    "- *generate_plus* allows for a little more kwarg manipulation"
   ]
  },
  {
   "cell_type": "code",
   "execution_count": 3,
   "id": "cd537417-afc2-43c2-bdcc-6da030441321",
   "metadata": {},
   "outputs": [
    {
     "name": "stderr",
     "output_type": "stream",
     "text": [
      "An error occurred while trying to fetch gligen/diffusers-generation-text-box: gligen/diffusers-generation-text-box does not appear to have a file named diffusion_pytorch_model.safetensors.\n",
      "Defaulting to unsafe serialization. Pass `allow_pickle=False` to raise an error instead.\n"
     ]
    },
    {
     "name": "stdout",
     "output_type": "stream",
     "text": [
      "Using SD: gligen/diffusers-generation-text-box\n"
     ]
    },
    {
     "name": "stderr",
     "output_type": "stream",
     "text": [
      "An error occurred while trying to fetch gligen/diffusers-generation-text-box: gligen/diffusers-generation-text-box does not appear to have a file named diffusion_pytorch_model.safetensors.\n",
      "Defaulting to unsafe serialization. Pass `allow_pickle=False` to raise an error instead.\n"
     ]
    }
   ],
   "source": [
    "# check globals to avoid loading twice:\n",
    "if not globals().get('generator', None):\n",
    "    generator = load_generator(run_model='lmd_plus')"
   ]
  },
  {
   "cell_type": "code",
   "execution_count": 4,
   "id": "eabcb2a4-0a96-40fe-a5c7-b40e1f8d6f95",
   "metadata": {},
   "outputs": [
    {
     "name": "stdout",
     "output_type": "stream",
     "text": [
      "Now generating 3 samples with layout:\n",
      " {'prompt': 'In an indoor scene, a blue cube directly above a red cube with a vase on the left of them', 'gen_boxes': [('a blue cube', (202, 120, 110, 110)), ('a red cube', (202, 230, 110, 110)), ('a vase', (62, 190, 80, 150))], 'bg_prompt': 'An indoor scene', 'extra_neg_prompt': ''}\n",
      "Running generation.lmd_plus.run as the generator...\n",
      "--------------------------------------------------------------------------------\n",
      "\n",
      "Fetching masked latents for: An indoor scene with a blue cube\n"
     ]
    },
    {
     "data": {
      "application/vnd.jupyter.widget-view+json": {
       "model_id": "dac51c12747646d2b08e513a4ea828dd",
       "version_major": 2,
       "version_minor": 0
      },
      "text/plain": [
       "Gligen Pipeline (Timesteps):   0%|          | 0/50 [00:00<?, ?it/s]"
      ]
     },
     "metadata": {},
     "output_type": "display_data"
    },
    {
     "name": "stdout",
     "output_type": "stream",
     "text": [
      "Fetching masked latents for: An indoor scene with a red cube\n"
     ]
    },
    {
     "data": {
      "application/vnd.jupyter.widget-view+json": {
       "model_id": "3545832913554a6fbf60258fab409dfe",
       "version_major": 2,
       "version_minor": 0
      },
      "text/plain": [
       "Gligen Pipeline (Timesteps):   0%|          | 0/50 [00:00<?, ?it/s]"
      ]
     },
     "metadata": {},
     "output_type": "display_data"
    },
    {
     "name": "stdout",
     "output_type": "stream",
     "text": [
      "Fetching masked latents for: An indoor scene with a vase\n"
     ]
    },
    {
     "data": {
      "application/vnd.jupyter.widget-view+json": {
       "model_id": "f3aa1eecb8b64943aca8e0eb493a3731",
       "version_major": 2,
       "version_minor": 0
      },
      "text/plain": [
       "Gligen Pipeline (Timesteps):   0%|          | 0/50 [00:00<?, ?it/s]"
      ]
     },
     "metadata": {},
     "output_type": "display_data"
    },
    {
     "data": {
      "application/vnd.jupyter.widget-view+json": {
       "model_id": "4f2c6f0beccf48e499f3ece7d146187d",
       "version_major": 2,
       "version_minor": 0
      },
      "text/plain": [
       "Gligen Pipeline (Timesteps):   0%|          | 0/50 [00:00<?, ?it/s]"
      ]
     },
     "metadata": {},
     "output_type": "display_data"
    },
    {
     "name": "stdout",
     "output_type": "stream",
     "text": [
      "Generation with spatial guidance from input latents and first 25 steps frozen\n",
      " (Direct generation from the composed latents input)\n",
      "Generation from composed latents (with semantic guidance)\n"
     ]
    }
   ],
   "source": [
    "output_dir = 'outputs/sampler_test'\n",
    "output = generate_plus(prompt, 3, layout, output_dir=output_dir, generator=generator)"
   ]
  },
  {
   "cell_type": "code",
   "execution_count": null,
   "id": "e89459c8-f081-4215-afb9-12753310d739",
   "metadata": {},
   "outputs": [],
   "source": []
  }
 ],
 "metadata": {
  "kernelspec": {
   "display_name": "Optimal",
   "language": "python",
   "name": "optimal"
  },
  "language_info": {
   "codemirror_mode": {
    "name": "ipython",
    "version": 3
   },
   "file_extension": ".py",
   "mimetype": "text/x-python",
   "name": "python",
   "nbconvert_exporter": "python",
   "pygments_lexer": "ipython3",
   "version": "3.11.9"
  },
  "widgets": {
   "application/vnd.jupyter.widget-state+json": {
    "state": {
     "08152fa8fea64a5f995bd79c3c13ef71": {
      "model_module": "@jupyter-widgets/controls",
      "model_module_version": "2.0.0",
      "model_name": "HTMLModel",
      "state": {
       "layout": "IPY_MODEL_c63abf396fd0401798485a71849e2e0b",
       "style": "IPY_MODEL_f9bbad00cfa94418b3e14284f5b71557",
       "value": "Gligen Pipeline (Timesteps): 100%"
      }
     },
     "0aef554eb22548c396cfaf5c55fca167": {
      "model_module": "@jupyter-widgets/base",
      "model_module_version": "2.0.0",
      "model_name": "LayoutModel",
      "state": {}
     },
     "0d85043f619b4ef6b2c815436da1fac8": {
      "model_module": "@jupyter-widgets/base",
      "model_module_version": "2.0.0",
      "model_name": "LayoutModel",
      "state": {}
     },
     "14dc3e2b5aec4f20bac9d62774280889": {
      "model_module": "@jupyter-widgets/controls",
      "model_module_version": "2.0.0",
      "model_name": "HTMLModel",
      "state": {
       "layout": "IPY_MODEL_fa60c53866c545429be5f753a581d4cc",
       "style": "IPY_MODEL_4afb2f7c6dbc4094be1e456e1c346a17",
       "value": " 50/50 [00:03&lt;00:00, 16.74it/s]"
      }
     },
     "1f414ec709ba4e67b3e394b85e4e53be": {
      "model_module": "@jupyter-widgets/controls",
      "model_module_version": "2.0.0",
      "model_name": "HTMLModel",
      "state": {
       "layout": "IPY_MODEL_590d3c1aad7d46a4ade5bc67b5ed0be6",
       "style": "IPY_MODEL_4a5b1b3864eb472ab42c858718554fd8",
       "value": " 50/50 [00:03&lt;00:00, 16.70it/s]"
      }
     },
     "250836a4a6d9453b924331ea6feb06be": {
      "model_module": "@jupyter-widgets/controls",
      "model_module_version": "2.0.0",
      "model_name": "ProgressStyleModel",
      "state": {
       "description_width": ""
      }
     },
     "2bf614b0db574154bfce64e98e83fe5c": {
      "model_module": "@jupyter-widgets/controls",
      "model_module_version": "2.0.0",
      "model_name": "FloatProgressModel",
      "state": {
       "bar_style": "success",
       "layout": "IPY_MODEL_0d85043f619b4ef6b2c815436da1fac8",
       "max": 50,
       "style": "IPY_MODEL_250836a4a6d9453b924331ea6feb06be",
       "value": 50
      }
     },
     "2c89530a50a14644846da3bf9b8122af": {
      "model_module": "@jupyter-widgets/controls",
      "model_module_version": "2.0.0",
      "model_name": "ProgressStyleModel",
      "state": {
       "description_width": ""
      }
     },
     "3545832913554a6fbf60258fab409dfe": {
      "model_module": "@jupyter-widgets/controls",
      "model_module_version": "2.0.0",
      "model_name": "HBoxModel",
      "state": {
       "children": [
        "IPY_MODEL_fc954c71b8374edc936744deef08cee0",
        "IPY_MODEL_2bf614b0db574154bfce64e98e83fe5c",
        "IPY_MODEL_14dc3e2b5aec4f20bac9d62774280889"
       ],
       "layout": "IPY_MODEL_d1ffd4c5d23d4776b9f4417cb3a49ee1"
      }
     },
     "3c3a861c38b143878f3afffa34f1ca6f": {
      "model_module": "@jupyter-widgets/controls",
      "model_module_version": "2.0.0",
      "model_name": "ProgressStyleModel",
      "state": {
       "description_width": ""
      }
     },
     "3ca2756f9660428da45cb049f104902b": {
      "model_module": "@jupyter-widgets/controls",
      "model_module_version": "2.0.0",
      "model_name": "FloatProgressModel",
      "state": {
       "bar_style": "success",
       "layout": "IPY_MODEL_912210f4f1e3470aad15a7f690aca2f1",
       "max": 50,
       "style": "IPY_MODEL_3c3a861c38b143878f3afffa34f1ca6f",
       "value": 50
      }
     },
     "414ba1fb85b74a95b416f405357a388d": {
      "model_module": "@jupyter-widgets/base",
      "model_module_version": "2.0.0",
      "model_name": "LayoutModel",
      "state": {}
     },
     "482a587441bf46c78a42defc65524606": {
      "model_module": "@jupyter-widgets/controls",
      "model_module_version": "2.0.0",
      "model_name": "HTMLStyleModel",
      "state": {
       "description_width": "",
       "font_size": null,
       "text_color": null
      }
     },
     "497965a1f2644a9fb0252368e50b46d8": {
      "model_module": "@jupyter-widgets/base",
      "model_module_version": "2.0.0",
      "model_name": "LayoutModel",
      "state": {}
     },
     "4a5b1b3864eb472ab42c858718554fd8": {
      "model_module": "@jupyter-widgets/controls",
      "model_module_version": "2.0.0",
      "model_name": "HTMLStyleModel",
      "state": {
       "description_width": "",
       "font_size": null,
       "text_color": null
      }
     },
     "4afb2f7c6dbc4094be1e456e1c346a17": {
      "model_module": "@jupyter-widgets/controls",
      "model_module_version": "2.0.0",
      "model_name": "HTMLStyleModel",
      "state": {
       "description_width": "",
       "font_size": null,
       "text_color": null
      }
     },
     "4f2c6f0beccf48e499f3ece7d146187d": {
      "model_module": "@jupyter-widgets/controls",
      "model_module_version": "2.0.0",
      "model_name": "HBoxModel",
      "state": {
       "children": [
        "IPY_MODEL_c68b65f2ab394db3bce32fd920de4954",
        "IPY_MODEL_6d2e4cd113e7426f9cac6b653a0f6254",
        "IPY_MODEL_f63d25b8048549189f7581c6b808ab0a"
       ],
       "layout": "IPY_MODEL_0aef554eb22548c396cfaf5c55fca167"
      }
     },
     "55acff4ff9fe490186d62a0a4acda6c5": {
      "model_module": "@jupyter-widgets/controls",
      "model_module_version": "2.0.0",
      "model_name": "ProgressStyleModel",
      "state": {
       "description_width": ""
      }
     },
     "5872aa1dbc2e4ecd8d63b7b590623cec": {
      "model_module": "@jupyter-widgets/controls",
      "model_module_version": "2.0.0",
      "model_name": "HTMLModel",
      "state": {
       "layout": "IPY_MODEL_414ba1fb85b74a95b416f405357a388d",
       "style": "IPY_MODEL_9ee47ead20ef4dfb8eeedb470b607522",
       "value": "Gligen Pipeline (Timesteps): 100%"
      }
     },
     "590d3c1aad7d46a4ade5bc67b5ed0be6": {
      "model_module": "@jupyter-widgets/base",
      "model_module_version": "2.0.0",
      "model_name": "LayoutModel",
      "state": {}
     },
     "6d2e4cd113e7426f9cac6b653a0f6254": {
      "model_module": "@jupyter-widgets/controls",
      "model_module_version": "2.0.0",
      "model_name": "FloatProgressModel",
      "state": {
       "bar_style": "success",
       "layout": "IPY_MODEL_d484d4cfd8a547fca0eeddbc15aa750f",
       "max": 50,
       "style": "IPY_MODEL_55acff4ff9fe490186d62a0a4acda6c5",
       "value": 50
      }
     },
     "6f15c8d2230a4ce8b7aab3c5cd8807d5": {
      "model_module": "@jupyter-widgets/base",
      "model_module_version": "2.0.0",
      "model_name": "LayoutModel",
      "state": {}
     },
     "7075afffcddc4adf9550d1a0b5adf7b1": {
      "model_module": "@jupyter-widgets/base",
      "model_module_version": "2.0.0",
      "model_name": "LayoutModel",
      "state": {}
     },
     "71f0b13cdf644b4bb37adbf100392df6": {
      "model_module": "@jupyter-widgets/controls",
      "model_module_version": "2.0.0",
      "model_name": "HTMLStyleModel",
      "state": {
       "description_width": "",
       "font_size": null,
       "text_color": null
      }
     },
     "77dd6842a5f64d42b717ebd73196cd37": {
      "model_module": "@jupyter-widgets/controls",
      "model_module_version": "2.0.0",
      "model_name": "HTMLModel",
      "state": {
       "layout": "IPY_MODEL_ae8f1c0a7ad548019dff138a1d39d8c6",
       "style": "IPY_MODEL_da8aa82ac023479594c9483118b6bf12",
       "value": " 50/50 [00:03&lt;00:00, 16.77it/s]"
      }
     },
     "912210f4f1e3470aad15a7f690aca2f1": {
      "model_module": "@jupyter-widgets/base",
      "model_module_version": "2.0.0",
      "model_name": "LayoutModel",
      "state": {}
     },
     "9438d14a23a744e692572b2efb183a2a": {
      "model_module": "@jupyter-widgets/controls",
      "model_module_version": "2.0.0",
      "model_name": "HTMLStyleModel",
      "state": {
       "description_width": "",
       "font_size": null,
       "text_color": null
      }
     },
     "9ee47ead20ef4dfb8eeedb470b607522": {
      "model_module": "@jupyter-widgets/controls",
      "model_module_version": "2.0.0",
      "model_name": "HTMLStyleModel",
      "state": {
       "description_width": "",
       "font_size": null,
       "text_color": null
      }
     },
     "a148ba9fac4b468bac3cf19c2a3ab8a6": {
      "model_module": "@jupyter-widgets/base",
      "model_module_version": "2.0.0",
      "model_name": "LayoutModel",
      "state": {}
     },
     "ae8f1c0a7ad548019dff138a1d39d8c6": {
      "model_module": "@jupyter-widgets/base",
      "model_module_version": "2.0.0",
      "model_name": "LayoutModel",
      "state": {}
     },
     "be56175283de4c51853f692280ec7fc6": {
      "model_module": "@jupyter-widgets/base",
      "model_module_version": "2.0.0",
      "model_name": "LayoutModel",
      "state": {}
     },
     "c63abf396fd0401798485a71849e2e0b": {
      "model_module": "@jupyter-widgets/base",
      "model_module_version": "2.0.0",
      "model_name": "LayoutModel",
      "state": {}
     },
     "c68b65f2ab394db3bce32fd920de4954": {
      "model_module": "@jupyter-widgets/controls",
      "model_module_version": "2.0.0",
      "model_name": "HTMLModel",
      "state": {
       "layout": "IPY_MODEL_497965a1f2644a9fb0252368e50b46d8",
       "style": "IPY_MODEL_9438d14a23a744e692572b2efb183a2a",
       "value": "Gligen Pipeline (Timesteps): 100%"
      }
     },
     "d1ffd4c5d23d4776b9f4417cb3a49ee1": {
      "model_module": "@jupyter-widgets/base",
      "model_module_version": "2.0.0",
      "model_name": "LayoutModel",
      "state": {}
     },
     "d2dc121d7e7b41aca2aaf5866f78fa8b": {
      "model_module": "@jupyter-widgets/base",
      "model_module_version": "2.0.0",
      "model_name": "LayoutModel",
      "state": {}
     },
     "d484d4cfd8a547fca0eeddbc15aa750f": {
      "model_module": "@jupyter-widgets/base",
      "model_module_version": "2.0.0",
      "model_name": "LayoutModel",
      "state": {}
     },
     "da8aa82ac023479594c9483118b6bf12": {
      "model_module": "@jupyter-widgets/controls",
      "model_module_version": "2.0.0",
      "model_name": "HTMLStyleModel",
      "state": {
       "description_width": "",
       "font_size": null,
       "text_color": null
      }
     },
     "dac51c12747646d2b08e513a4ea828dd": {
      "model_module": "@jupyter-widgets/controls",
      "model_module_version": "2.0.0",
      "model_name": "HBoxModel",
      "state": {
       "children": [
        "IPY_MODEL_08152fa8fea64a5f995bd79c3c13ef71",
        "IPY_MODEL_3ca2756f9660428da45cb049f104902b",
        "IPY_MODEL_77dd6842a5f64d42b717ebd73196cd37"
       ],
       "layout": "IPY_MODEL_7075afffcddc4adf9550d1a0b5adf7b1"
      }
     },
     "ee907a39a2b649fcab8ebd99f656dba0": {
      "model_module": "@jupyter-widgets/controls",
      "model_module_version": "2.0.0",
      "model_name": "FloatProgressModel",
      "state": {
       "bar_style": "success",
       "layout": "IPY_MODEL_a148ba9fac4b468bac3cf19c2a3ab8a6",
       "max": 50,
       "style": "IPY_MODEL_2c89530a50a14644846da3bf9b8122af",
       "value": 50
      }
     },
     "f3aa1eecb8b64943aca8e0eb493a3731": {
      "model_module": "@jupyter-widgets/controls",
      "model_module_version": "2.0.0",
      "model_name": "HBoxModel",
      "state": {
       "children": [
        "IPY_MODEL_5872aa1dbc2e4ecd8d63b7b590623cec",
        "IPY_MODEL_ee907a39a2b649fcab8ebd99f656dba0",
        "IPY_MODEL_1f414ec709ba4e67b3e394b85e4e53be"
       ],
       "layout": "IPY_MODEL_d2dc121d7e7b41aca2aaf5866f78fa8b"
      }
     },
     "f63d25b8048549189f7581c6b808ab0a": {
      "model_module": "@jupyter-widgets/controls",
      "model_module_version": "2.0.0",
      "model_name": "HTMLModel",
      "state": {
       "layout": "IPY_MODEL_be56175283de4c51853f692280ec7fc6",
       "style": "IPY_MODEL_71f0b13cdf644b4bb37adbf100392df6",
       "value": " 50/50 [00:13&lt;00:00, 15.97it/s]"
      }
     },
     "f9bbad00cfa94418b3e14284f5b71557": {
      "model_module": "@jupyter-widgets/controls",
      "model_module_version": "2.0.0",
      "model_name": "HTMLStyleModel",
      "state": {
       "description_width": "",
       "font_size": null,
       "text_color": null
      }
     },
     "fa60c53866c545429be5f753a581d4cc": {
      "model_module": "@jupyter-widgets/base",
      "model_module_version": "2.0.0",
      "model_name": "LayoutModel",
      "state": {}
     },
     "fc954c71b8374edc936744deef08cee0": {
      "model_module": "@jupyter-widgets/controls",
      "model_module_version": "2.0.0",
      "model_name": "HTMLModel",
      "state": {
       "layout": "IPY_MODEL_6f15c8d2230a4ce8b7aab3c5cd8807d5",
       "style": "IPY_MODEL_482a587441bf46c78a42defc65524606",
       "value": "Gligen Pipeline (Timesteps): 100%"
      }
     }
    },
    "version_major": 2,
    "version_minor": 0
   }
  }
 },
 "nbformat": 4,
 "nbformat_minor": 5
}
